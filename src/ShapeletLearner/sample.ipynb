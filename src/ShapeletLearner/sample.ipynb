{
 "cells": [
  {
   "cell_type": "markdown",
   "metadata": {},
   "source": [
    "### Sample Implementation of Shapelets for RIGHT_ELBOW_ANGLE"
   ]
  },
  {
   "cell_type": "code",
   "execution_count": 13,
   "metadata": {},
   "outputs": [],
   "source": [
    "import os\n",
    "import sys\n",
    "sys.path.append(os.path.abspath(os.path.join(os.getcwd(), \"../\")))"
   ]
  },
  {
   "cell_type": "code",
   "execution_count": 14,
   "metadata": {},
   "outputs": [],
   "source": [
    "import numpy as np\n",
    "import pandas as pd\n",
    "import matplotlib.pyplot as plt\n",
    "import seaborn as sns # Havent really used it but eh\n",
    "from torch.utils.data import DataLoader\n",
    "\n",
    "## Data Imports\n",
    "from preprocess.features import *\n",
    "from preprocess.timeseries import *\n",
    "from preprocess.utils import *\n",
    "\n",
    "## Model Imports\n",
    "from model.shaplet_learner import *\n",
    "from utils.config import *\n",
    "from utils.trainer import *\n",
    "from utils.weight_init import *\n",
    "from ShapeletLearner.datasets.tsdataset import *\n"
   ]
  },
  {
   "cell_type": "code",
   "execution_count": 15,
   "metadata": {},
   "outputs": [],
   "source": [
    "data_path = os.path.join(os.path.abspath(os.path.join(ROOT, \"..\", \"..\" )), \"P0001_shooting_alt.csv\") \n",
    "data = pd.read_csv(data_path)"
   ]
  },
  {
   "cell_type": "code",
   "execution_count": 16,
   "metadata": {},
   "outputs": [],
   "source": [
    "data['RIGHT_ELBOW_ANGLE'] = data.apply(lambda row: angle_finder_shared(A = np.array([row['R_SHOULDER_x'], row['R_SHOULDER_y'], row['R_SHOULDER_z']]), \n",
    "                                                                       B = np.array([row['R_ELBOW_x'], row['R_ELBOW_y'], row['R_ELBOW_z']]), \n",
    "                                                                       C = np.array([row['R_WRIST_x'], row['R_WRIST_y'], row['R_WRIST_z']]), \n",
    "                                                                       D = np.array([row['R_ELBOW_x'], row['R_ELBOW_y'], row['R_ELBOW_z']])), axis=1)\n",
    "ts_data, labels = DatasetTimeseries(data, 'RIGHT_ELBOW_ANGLE')"
   ]
  },
  {
   "cell_type": "code",
   "execution_count": 17,
   "metadata": {},
   "outputs": [],
   "source": [
    "\n",
    "def train_shaplet_model(model, train_loader, optimizer, epochs = 100):\n",
    "    device = torch.device('cuda' if torch.cuda.is_available() else 'cpu')\n",
    "    model.to(device)\n",
    "\n",
    "    for epoch in range(epochs):\n",
    "        model.train()\n",
    "        total_loss = 0\n",
    "        \n",
    "        for time_series, labels in train_loader:\n",
    "            time_series, labels = time_series.to(device), labels.to(device)\n",
    "            optimizer.zero_grad()\n",
    "            predictions = model(time_series)\n",
    "            loss = model.loss_fn(predictions, labels)\n",
    "            loss.backward()\n",
    "            optimizer.step()\n",
    "            total_loss += loss.item()\n",
    "        print(f'Epoch [{epoch + 1}/{epochs}], Loss: {total_loss / len(train_loader)}')\n",
    "        "
   ]
  },
  {
   "cell_type": "code",
   "execution_count": 18,
   "metadata": {},
   "outputs": [
    {
     "name": "stdout",
     "output_type": "stream",
     "text": [
      "Epoch [1/100], Loss: 9.203835487365723\n",
      "Epoch [2/100], Loss: 4.179266691207886\n",
      "Epoch [3/100], Loss: 4.242651164531708\n",
      "Epoch [4/100], Loss: 4.431463956832886\n",
      "Epoch [5/100], Loss: 3.7007248401641846\n",
      "Epoch [6/100], Loss: 2.554734915494919\n",
      "Epoch [7/100], Loss: 2.0149262845516205\n",
      "Epoch [8/100], Loss: 1.938728153705597\n",
      "Epoch [9/100], Loss: 1.2508954107761383\n",
      "Epoch [10/100], Loss: 1.1410956382751465\n",
      "Epoch [11/100], Loss: 0.8851140290498734\n",
      "Epoch [12/100], Loss: 0.8470257669687271\n",
      "Epoch [13/100], Loss: 0.7384260594844818\n",
      "Epoch [14/100], Loss: 0.7305168807506561\n",
      "Epoch [15/100], Loss: 0.663212925195694\n",
      "Epoch [16/100], Loss: 0.6322671473026276\n",
      "Epoch [17/100], Loss: 0.6069484204053879\n",
      "Epoch [18/100], Loss: 0.6005790382623672\n",
      "Epoch [19/100], Loss: 0.5996736288070679\n",
      "Epoch [20/100], Loss: 0.58919358253479\n",
      "Epoch [21/100], Loss: 0.594770759344101\n",
      "Epoch [22/100], Loss: 0.5958056896924973\n",
      "Epoch [23/100], Loss: 0.587456688284874\n",
      "Epoch [24/100], Loss: 0.606159433722496\n",
      "Epoch [25/100], Loss: 0.5749025791883469\n",
      "Epoch [26/100], Loss: 0.6230670660734177\n",
      "Epoch [27/100], Loss: 0.6580233871936798\n",
      "Epoch [28/100], Loss: 0.6330222636461258\n",
      "Epoch [29/100], Loss: 0.6003362983465195\n",
      "Epoch [30/100], Loss: 0.6398440152406693\n",
      "Epoch [31/100], Loss: 0.6048022210597992\n",
      "Epoch [32/100], Loss: 0.6245094686746597\n",
      "Epoch [33/100], Loss: 0.5860853493213654\n",
      "Epoch [34/100], Loss: 0.593989834189415\n",
      "Epoch [35/100], Loss: 0.5872301757335663\n",
      "Epoch [36/100], Loss: 0.5866956487298012\n",
      "Epoch [37/100], Loss: 0.5849243104457855\n",
      "Epoch [38/100], Loss: 0.595718614757061\n",
      "Epoch [39/100], Loss: 0.5768156051635742\n",
      "Epoch [40/100], Loss: 0.599336788058281\n",
      "Epoch [41/100], Loss: 0.5755025893449783\n",
      "Epoch [42/100], Loss: 0.5948730707168579\n",
      "Epoch [43/100], Loss: 0.5741909444332123\n",
      "Epoch [44/100], Loss: 0.5774765014648438\n",
      "Epoch [45/100], Loss: 0.5932423770427704\n",
      "Epoch [46/100], Loss: 0.5980685353279114\n",
      "Epoch [47/100], Loss: 0.5703353583812714\n",
      "Epoch [48/100], Loss: 0.5922546982765198\n",
      "Epoch [49/100], Loss: 0.6182723492383957\n",
      "Epoch [50/100], Loss: 0.6155929118394852\n",
      "Epoch [51/100], Loss: 0.577917255461216\n",
      "Epoch [52/100], Loss: 0.5816279724240303\n",
      "Epoch [53/100], Loss: 0.6231826990842819\n",
      "Epoch [54/100], Loss: 0.5776716992259026\n",
      "Epoch [55/100], Loss: 0.5860729813575745\n",
      "Epoch [56/100], Loss: 0.5806338712573051\n",
      "Epoch [57/100], Loss: 0.5729853734374046\n",
      "Epoch [58/100], Loss: 0.5689129680395126\n",
      "Epoch [59/100], Loss: 0.5720684826374054\n",
      "Epoch [60/100], Loss: 0.5735964849591255\n",
      "Epoch [61/100], Loss: 0.5918932110071182\n",
      "Epoch [62/100], Loss: 0.5954296067357063\n",
      "Epoch [63/100], Loss: 0.5840038359165192\n",
      "Epoch [64/100], Loss: 0.5621015131473541\n",
      "Epoch [65/100], Loss: 0.6251215040683746\n",
      "Epoch [66/100], Loss: 0.6075452044606209\n",
      "Epoch [67/100], Loss: 0.5913425236940384\n",
      "Epoch [68/100], Loss: 0.5697297304868698\n",
      "Epoch [69/100], Loss: 0.6074060201644897\n",
      "Epoch [70/100], Loss: 0.6097836643457413\n",
      "Epoch [71/100], Loss: 0.5870907008647919\n",
      "Epoch [72/100], Loss: 0.5727213472127914\n",
      "Epoch [73/100], Loss: 0.5755633860826492\n",
      "Epoch [74/100], Loss: 0.5747261047363281\n",
      "Epoch [75/100], Loss: 0.5732620507478714\n",
      "Epoch [76/100], Loss: 0.5909501016139984\n",
      "Epoch [77/100], Loss: 0.570766493678093\n",
      "Epoch [78/100], Loss: 0.6083710417151451\n",
      "Epoch [79/100], Loss: 0.575445793569088\n",
      "Epoch [80/100], Loss: 0.5887411385774612\n",
      "Epoch [81/100], Loss: 0.576845295727253\n",
      "Epoch [82/100], Loss: 0.5759195312857628\n",
      "Epoch [83/100], Loss: 0.5583971813321114\n",
      "Epoch [84/100], Loss: 0.5598801672458649\n",
      "Epoch [85/100], Loss: 0.5695817321538925\n",
      "Epoch [86/100], Loss: 0.5748033076524734\n",
      "Epoch [87/100], Loss: 0.5642010420560837\n",
      "Epoch [88/100], Loss: 0.5845443606376648\n",
      "Epoch [89/100], Loss: 0.5692173689603806\n",
      "Epoch [90/100], Loss: 0.5698568001389503\n",
      "Epoch [91/100], Loss: 0.5591435581445694\n",
      "Epoch [92/100], Loss: 0.587112545967102\n",
      "Epoch [93/100], Loss: 0.5856006368994713\n",
      "Epoch [94/100], Loss: 0.5557953417301178\n",
      "Epoch [95/100], Loss: 0.5969683676958084\n",
      "Epoch [96/100], Loss: 0.5716447532176971\n",
      "Epoch [97/100], Loss: 0.5462218970060349\n",
      "Epoch [98/100], Loss: 0.5614441782236099\n",
      "Epoch [99/100], Loss: 0.5690655633807182\n",
      "Epoch [100/100], Loss: 0.5859328508377075\n"
     ]
    }
   ],
   "source": [
    "alpha = None\n",
    "trial = TSDataset(ts_data = ts_data, labels=labels)\n",
    "train_loader = DataLoader(trial, batch_size=32, shuffle=True)\n",
    "\n",
    "kmeans_centroids = shapelet_initialization(ts_data, num_shapelets, shapelet_lengths)\n",
    "\n",
    "model = ShapletLearner(num_shapelets, shapelet_lengths, input_size, num_classes, alpha, kmeans_centroids) ## Add higher regularization after the new method\n",
    "optimizer = torch.optim.Adam(model.parameters(), lr=0.01)\n",
    "train_shaplet_model(model, train_loader, optimizer, epochs)"
   ]
  },
  {
   "cell_type": "code",
   "execution_count": 19,
   "metadata": {},
   "outputs": [
    {
     "name": "stderr",
     "output_type": "stream",
     "text": [
      "C:\\Users\\User\\AppData\\Local\\Temp\\ipykernel_33656\\2002151369.py:3: UserWarning: To copy construct from a tensor, it is recommended to use sourceTensor.clone().detach() or sourceTensor.clone().detach().requires_grad_(True), rather than torch.tensor(sourceTensor).\n",
      "  plt.plot(torch.tensor(model.shapelets[0]))  ## I'll Try to make it match with the timeseries later\n"
     ]
    },
    {
     "data": {
      "text/plain": [
       "[<matplotlib.lines.Line2D at 0x1edd0b20b00>]"
      ]
     },
     "execution_count": 19,
     "metadata": {},
     "output_type": "execute_result"
    },
    {
     "data": {
      "image/png": "[encoded data removed]",
      "text/plain": [
       "<Figure size 640x480 with 1 Axes>"
      ]
     },
     "metadata": {},
     "output_type": "display_data"
    }
   ],
   "source": [
    "## Plotting the shapelets is easy\n",
    "\n",
    "plt.plot(torch.tensor(model.shapelets[0]))  ## I'll Try to make it match with the timeseries later "
   ]
  },
  {
   "cell_type": "code",
   "execution_count": 46,
   "metadata": {},
   "outputs": [
    {
     "data": {
      "text/plain": [
       "[<matplotlib.lines.Line2D at 0x27cb68d3bc0>]"
      ]
     },
     "execution_count": 46,
     "metadata": {},
     "output_type": "execute_result"
    },
    {
     "data": {
      "image/png": "[encoded data removed]",
      "text/plain": [
       "<Figure size 640x480 with 1 Axes>"
      ]
     },
     "metadata": {},
     "output_type": "display_data"
    }
   ],
   "source": [
    "plt.plot(ts_data[0, :])"
   ]
  },
  {
   "cell_type": "code",
   "execution_count": 23,
   "metadata": {},
   "outputs": [],
   "source": [
    "from utils.DTW import *"
   ]
  },
  {
   "cell_type": "code",
   "execution_count": 22,
   "metadata": {},
   "outputs": [
    {
     "name": "stdout",
     "output_type": "stream",
     "text": [
      "tensor(1.2247)\n"
     ]
    }
   ],
   "source": []
  },
  {
   "cell_type": "code",
   "execution_count": 28,
   "metadata": {},
   "outputs": [
    {
     "name": "stdout",
     "output_type": "stream",
     "text": [
      "DTW Distance: 2.291287899017334\n",
      "Gradient for ts1: tensor([[-0.2182,  0.8729],\n",
      "        [-0.2182, -0.2182],\n",
      "        [-0.2182, -0.2182]])\n"
     ]
    }
   ],
   "source": [
    "ts1 = torch.tensor([[1.0, 4.5], [2.0, 3.0], [3.0, 4.0]], requires_grad=True)\n",
    "ts2 = torch.tensor([[1.5, 2.5], [2.5, 3.5], [3.5, 4.5]])\n",
    "\n",
    "dtw_distance = DTW_calc(ts1, ts2)\n",
    "\n",
    "# Compute gradients\n",
    "dtw_distance.backward()\n",
    "\n",
    "print(\"DTW Distance:\", dtw_distance.item())\n",
    "print(\"Gradient for ts1:\", ts1.grad)"
   ]
  }
 ],
 "metadata": {
  "kernelspec": {
   "display_name": "Python 3",
   "language": "python",
   "name": "python3"
  },
  "language_info": {
   "codemirror_mode": {
    "name": "ipython",
    "version": 3
   },
   "file_extension": ".py",
   "mimetype": "text/x-python",
   "name": "python",
   "nbconvert_exporter": "python",
   "pygments_lexer": "ipython3",
   "version": "3.12.7"
  }
 },
 "nbformat": 4,
 "nbformat_minor": 2
}
