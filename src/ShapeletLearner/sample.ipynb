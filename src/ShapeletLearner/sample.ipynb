{
 "cells": [
  {
   "cell_type": "markdown",
   "metadata": {},
   "source": [
    "### Sample Implementation of Shapelets for RIGHT_ELBOW_ANGLE"
   ]
  },
  {
   "cell_type": "code",
   "execution_count": 41,
   "metadata": {},
   "outputs": [],
   "source": [
    "import os\n",
    "import sys\n",
    "sys.path.append(os.path.abspath(os.path.join(os.getcwd(), \"../\")))"
   ]
  },
  {
   "cell_type": "code",
   "execution_count": 43,
   "metadata": {},
   "outputs": [],
   "source": [
    "import numpy as np\n",
    "import pandas as pd\n",
    "import matplotlib.pyplot as plt\n",
    "import seaborn as sns # Havent really used it but eh\n",
    "from torch.utils.data import DataLoader\n",
    "\n",
    "## Data Imports\n",
    "from preprocess.features import *\n",
    "from preprocess.timeseries import *\n",
    "from preprocess.utils import *\n",
    "\n",
    "## Model Imports\n",
    "from model.shaplet_learner import *\n",
    "from utils.config import *\n",
    "from utils.trainer import *\n",
    "from utils.weight_init import *\n",
    "from ShapeletLearner.datasets.tsdataset import *\n"
   ]
  },
  {
   "cell_type": "code",
   "execution_count": 15,
   "metadata": {},
   "outputs": [],
   "source": [
    "data_path = os.path.join(os.path.abspath(os.path.join(ROOT, \"..\", \"..\" )), \"P0001_shooting_alt.csv\") \n",
    "data = pd.read_csv(data_path)"
   ]
  },
  {
   "cell_type": "code",
   "execution_count": 16,
   "metadata": {},
   "outputs": [],
   "source": [
    "data['RIGHT_ELBOW_ANGLE'] = data.apply(lambda row: angle_finder_shared(A = np.array([row['R_SHOULDER_x'], row['R_SHOULDER_y'], row['R_SHOULDER_z']]), \n",
    "                                                                       B = np.array([row['R_ELBOW_x'], row['R_ELBOW_y'], row['R_ELBOW_z']]), \n",
    "                                                                       C = np.array([row['R_WRIST_x'], row['R_WRIST_y'], row['R_WRIST_z']]), \n",
    "                                                                       D = np.array([row['R_ELBOW_x'], row['R_ELBOW_y'], row['R_ELBOW_z']])), axis=1)\n",
    "ts_data, labels = DatasetTimeseries(data, 'RIGHT_ELBOW_ANGLE')"
   ]
  },
  {
   "cell_type": "code",
   "execution_count": 75,
   "metadata": {},
   "outputs": [],
   "source": [
    "import torch\n",
    "import torch.nn as nn\n",
    "import torch.nn.functional\n",
    "\n",
    "import torch\n",
    "\n",
    "def DTW_calc(ts1, ts2):\n",
    "    \"\"\"\n",
    "    Computes the DTW similarity (for univariate time series) between two time series.\n",
    "    Handles one input having batch size 1 for broadcasting (shapelet of shape (1, len_shapelet)).\n",
    "    \n",
    "    Parameters:\n",
    "    ts1: Tensor of shape (batch_size1, time_steps1) or (1, time_steps1) (shapelet)\n",
    "    ts2: Tensor of shape (batch_size2, time_steps2) (time series segment)\n",
    "    \n",
    "    Returns:\n",
    "    dtw_dist: Tensor of shape (batch_size,) containing the DTW distance for each batch.\n",
    "    \"\"\"\n",
    "    # Compute the cost matrix\n",
    "    cost_mat = cost_matrix(ts1, ts2)\n",
    "\n",
    "    # Return the square root of the final element in the cost matrix (total DTW cost for each batch)\n",
    "    return torch.sqrt(cost_mat[:, -1, -1])\n",
    "\n",
    "def euclidean_diff(ts1, ts2):\n",
    "    \"\"\"\n",
    "    Calculates the squared Euclidean distance between two points (or vectors) from two univariate time series.\n",
    "    Handles broadcasting if one input has batch size 1 (shapelet of shape (1,)).\n",
    "    \n",
    "    Parameters:\n",
    "    ts1: Tensor of shape (batch_size,)\n",
    "    ts2: Tensor of shape (batch_size,) or (1,)\n",
    "    \n",
    "    Returns:\n",
    "    dist: Tensor of shape (batch_size,) containing the squared Euclidean distance for each batch.\n",
    "    \"\"\"\n",
    "    return (ts1 - ts2) ** 2\n",
    "\n",
    "def cost_matrix(ts1, ts2):\n",
    "    \"\"\"\n",
    "    Computes the cost matrix for DTW with differentiable operations.\n",
    "    Handles one input having batch size 1 (for shapelet broadcasting), supports univariate time series.\n",
    "    \n",
    "    Parameters:\n",
    "    ts1: Tensor of shape (batch_size, time_steps1) or (1, time_steps1)\n",
    "    ts2: Tensor of shape (batch_size, time_steps2)\n",
    "    \n",
    "    Returns:\n",
    "    cum_sum: Tensor of shape (batch_size, time_steps1, time_steps2) containing the cumulative sum for each batch.\n",
    "    \"\"\"\n",
    "    batch_size1, ts1_size = ts1.shape \n",
    "    batch_size2, ts2_size = ts2.shape\n",
    "\n",
    "\n",
    "    batch_size = max(batch_size1, batch_size2)\n",
    "\n",
    "\n",
    "    cum_sum = torch.zeros((batch_size, ts1_size + 1, ts2_size + 1), device=ts1.device)\n",
    "    cum_sum[:, 1:, 0] = float('inf')\n",
    "    cum_sum[:, 0, 1:] = float('inf')\n",
    "\n",
    "\n",
    "    for i in range(1, ts1_size + 1):\n",
    "        for j in range(1, ts2_size + 1):\n",
    "            cost = euclidean_diff(ts1[:, i - 1], ts2[:, j - 1])\n",
    "            cum_sum[:, i, j] = cost + torch.min(torch.stack([\n",
    "                cum_sum[:, i - 1, j],   # Insertion\n",
    "                cum_sum[:, i, j - 1],   # Deletion\n",
    "                cum_sum[:, i - 1, j - 1]  # Match\n",
    "            ], dim=0), dim=0)[0]\n",
    "\n",
    "    return cum_sum[:, 1:, 1:]\n",
    "\n"
   ]
  },
  {
   "cell_type": "code",
   "execution_count": 101,
   "metadata": {},
   "outputs": [],
   "source": [
    "class ShapletLearner(nn.Module):\n",
    "    def __init__(self, num_shapelet, len_shapelet, input_size, num_classes, alpha_precision, kmeans_centroids, type_dist):\n",
    "        super().__init__()\n",
    "\n",
    "        assert input_size % len_shapelet  == 0, \"The input size may not be compatiable with the Timeseries size\"\n",
    "        assert type_dist in [\"euclid\", \"DTW\"]\n",
    "         \n",
    "        self.L = num_shapelet ## Using the paper's terminalogy\n",
    "        self.K = len_shapelet\n",
    "\n",
    "        self.Q = input_size\n",
    "        self.I = num_classes\n",
    "\n",
    "        self.alpha = alpha_precision\n",
    "        self.type_dist = type_dist\n",
    "\n",
    "        if kmeans_centroids is not None: ## TODO Include method directly\n",
    "            assert kmeans_centroids.shape == (num_shapelet, len_shapelet), \\\n",
    "                \"KMeans centroids must have the shape (num_shapelets, len_shapelet).\"\n",
    "            self.shapelets = nn.ParameterList(\n",
    "                [nn.Parameter(torch.tensor(centroid, dtype=torch.float32).unsqueeze(0)) for centroid in kmeans_centroids]\n",
    "            )\n",
    "        else:\n",
    "            self.shapelets = nn.ParameterList(nn.Parameter(torch.randn(self.K)) for _ in range(num_shapelet))\n",
    "        \n",
    "       \n",
    "        self.fc1 = nn.Linear(self.L, 2)\n",
    "\n",
    "        self.loss_fn = torch.nn.CrossEntropyLoss() ## This is what they used not sure why not BCE with logit but eh\n",
    "\n",
    "    def _compute_shapelet_dist(self, ts):\n",
    "        print(ts.shape)\n",
    "\n",
    "        shapelet_distances = [] \n",
    "        if self.type_dist == \"euclid\":\n",
    "\n",
    "            for shapelet in self.shapelets:\n",
    "                num_segments = self.Q - self.K + 1\n",
    "                distances = []\n",
    "                for j in range(num_segments):\n",
    "                    segment = ts[:, j:j+self.K] \n",
    "                    segment = segment\n",
    "                    dist = torch.mean((segment - shapelet)**2, dim = 1)\n",
    "                    if torch.isnan(dist).any():\n",
    "                        print(\"NaN detected in distance calculation\")\n",
    "                    distances.append(dist)\n",
    "                distances = torch.stack(distances, dim = 1)\n",
    "\n",
    "                hard_min, _ = torch.min(distances, dim=1)\n",
    "                if torch.isnan(hard_min).any():\n",
    "                    print(\"NaN detected in min operation\") \n",
    "                shapelet_distances.append(hard_min)\n",
    "\n",
    "\n",
    "            result =  torch.stack(shapelet_distances, dim = 1) \n",
    "        \n",
    "        \n",
    "        elif self.type_dist == \"DTW\":\n",
    "            for shapelet in self.shapelets:\n",
    "                num_segments = self.Q - self.K + 1\n",
    "                distances = []\n",
    "                for j in range(num_segments):\n",
    "                    segment = ts[:, j:j+self.K]\n",
    "                    dist = DTW_calc(segment, shapelet)\n",
    "                    if torch.isnan(dist).any():\n",
    "                        print(\"Nan Detected in DTW distance calculation\")\n",
    "                    distances.append(dist)\n",
    "                distances = torch.stack(distances, dim=1)\n",
    "                hard_min, _ = torch.min(distances, dim=1)\n",
    "                if torch.isnan(hard_min).any():\n",
    "                    print(\"NaN detected in DTW min\")\n",
    "                shapelet_distances.append(hard_min)\n",
    "\n",
    "            \n",
    "            result = torch.stack(shapelet_distances, dim=1)\n",
    "        return result\n",
    "\n",
    "    def forward(self, ts):\n",
    "        ts = ts.float()\n",
    "        shaplet_distances = self._compute_shapelet_dist(ts)\n",
    "        print(\"shapelet distance shape:\", shaplet_distances.shape)\n",
    "        output = self.fc1(shaplet_distances)\n",
    "        print(output.shape)\n",
    "        return output\n",
    "    \n",
    "    def loss(self, pred, labels):\n",
    "        return self.loss_fn(pred, labels)\n",
    "    \n"
   ]
  },
  {
   "cell_type": "code",
   "execution_count": 92,
   "metadata": {},
   "outputs": [],
   "source": [
    "def train_shaplet_model(model, train_loader, optimizer, epochs = 10):\n",
    "    device = torch.device('cuda' if torch.cuda.is_available() else 'cpu')\n",
    "    model.to(device)\n",
    "\n",
    "    for epoch in range(epochs):\n",
    "        model.train()\n",
    "        total_loss = 0\n",
    "        \n",
    "        for time_series, labels in train_loader:\n",
    "            time_series, labels = time_series.to(device), labels.to(device)\n",
    "            optimizer.zero_grad()\n",
    "            predictions = model(time_series)\n",
    "            loss = model.loss_fn(predictions, labels)\n",
    "            loss.backward()\n",
    "            optimizer.step()\n",
    "            total_loss += loss.item()\n",
    "        print(f'Epoch [{epoch + 1}/{epochs}], Loss: {total_loss / len(train_loader)}')\n",
    "        "
   ]
  },
  {
   "cell_type": "code",
   "execution_count": 102,
   "metadata": {},
   "outputs": [
    {
     "name": "stdout",
     "output_type": "stream",
     "text": [
      "torch.Size([4, 240])\n",
      "shapelet distance shape: torch.Size([4, 10])\n",
      "torch.Size([4, 2])\n",
      "torch.Size([4, 240])\n",
      "shapelet distance shape: torch.Size([4, 10])\n",
      "torch.Size([4, 2])\n",
      "torch.Size([4, 240])\n",
      "shapelet distance shape: torch.Size([4, 10])\n",
      "torch.Size([4, 2])\n",
      "torch.Size([4, 240])\n",
      "shapelet distance shape: torch.Size([4, 10])\n",
      "torch.Size([4, 2])\n",
      "Epoch [1/100], Loss: 1.0425273291766644\n",
      "torch.Size([4, 240])\n",
      "shapelet distance shape: torch.Size([4, 10])\n",
      "torch.Size([4, 2])\n",
      "torch.Size([4, 240])\n",
      "shapelet distance shape: torch.Size([4, 10])\n",
      "torch.Size([4, 2])\n",
      "torch.Size([4, 240])\n",
      "shapelet distance shape: torch.Size([4, 10])\n",
      "torch.Size([4, 2])\n",
      "torch.Size([4, 240])\n",
      "shapelet distance shape: torch.Size([4, 10])\n",
      "torch.Size([4, 2])\n",
      "Epoch [2/100], Loss: 0.9003364369273186\n",
      "torch.Size([4, 240])\n",
      "shapelet distance shape: torch.Size([4, 10])\n",
      "torch.Size([4, 2])\n",
      "torch.Size([4, 240])\n",
      "shapelet distance shape: torch.Size([4, 10])\n",
      "torch.Size([4, 2])\n",
      "torch.Size([4, 240])\n",
      "shapelet distance shape: torch.Size([4, 10])\n",
      "torch.Size([4, 2])\n",
      "torch.Size([4, 240])\n",
      "shapelet distance shape: torch.Size([4, 10])\n",
      "torch.Size([4, 2])\n",
      "Epoch [3/100], Loss: 0.7775783389806747\n",
      "torch.Size([4, 240])\n"
     ]
    },
    {
     "ename": "KeyboardInterrupt",
     "evalue": "",
     "output_type": "error",
     "traceback": [
      "\u001b[1;31m---------------------------------------------------------------------------\u001b[0m",
      "\u001b[1;31mKeyboardInterrupt\u001b[0m                         Traceback (most recent call last)",
      "Cell \u001b[1;32mIn[102], line 9\u001b[0m\n\u001b[0;32m      7\u001b[0m model \u001b[38;5;241m=\u001b[39m ShapletLearner(num_shapelets, shapelet_lengths, input_size, num_classes, alpha, kmeans_centroids, type_dist\u001b[38;5;241m=\u001b[39m \u001b[38;5;124m\"\u001b[39m\u001b[38;5;124mDTW\u001b[39m\u001b[38;5;124m\"\u001b[39m) \u001b[38;5;66;03m## Add higher regularization after the new method\u001b[39;00m\n\u001b[0;32m      8\u001b[0m optimizer \u001b[38;5;241m=\u001b[39m torch\u001b[38;5;241m.\u001b[39moptim\u001b[38;5;241m.\u001b[39mAdam(model\u001b[38;5;241m.\u001b[39mparameters(), lr\u001b[38;5;241m=\u001b[39m\u001b[38;5;241m0.01\u001b[39m)\n\u001b[1;32m----> 9\u001b[0m \u001b[43mtrain_shaplet_model\u001b[49m\u001b[43m(\u001b[49m\u001b[43mmodel\u001b[49m\u001b[43m,\u001b[49m\u001b[43m \u001b[49m\u001b[43mtrain_loader\u001b[49m\u001b[43m,\u001b[49m\u001b[43m \u001b[49m\u001b[43moptimizer\u001b[49m\u001b[43m,\u001b[49m\u001b[43m \u001b[49m\u001b[43mepochs\u001b[49m\u001b[43m)\u001b[49m\n",
      "Cell \u001b[1;32mIn[92], line 12\u001b[0m, in \u001b[0;36mtrain_shaplet_model\u001b[1;34m(model, train_loader, optimizer, epochs)\u001b[0m\n\u001b[0;32m     10\u001b[0m time_series, labels \u001b[38;5;241m=\u001b[39m time_series\u001b[38;5;241m.\u001b[39mto(device), labels\u001b[38;5;241m.\u001b[39mto(device)\n\u001b[0;32m     11\u001b[0m optimizer\u001b[38;5;241m.\u001b[39mzero_grad()\n\u001b[1;32m---> 12\u001b[0m predictions \u001b[38;5;241m=\u001b[39m \u001b[43mmodel\u001b[49m\u001b[43m(\u001b[49m\u001b[43mtime_series\u001b[49m\u001b[43m)\u001b[49m\n\u001b[0;32m     13\u001b[0m loss \u001b[38;5;241m=\u001b[39m model\u001b[38;5;241m.\u001b[39mloss_fn(predictions, labels)\n\u001b[0;32m     14\u001b[0m loss\u001b[38;5;241m.\u001b[39mbackward()\n",
      "File \u001b[1;32m~\\AppData\\Local\\Packages\\PythonSoftwareFoundation.Python.3.12_qbz5n2kfra8p0\\LocalCache\\local-packages\\Python312\\site-packages\\torch\\nn\\modules\\module.py:1532\u001b[0m, in \u001b[0;36mModule._wrapped_call_impl\u001b[1;34m(self, *args, **kwargs)\u001b[0m\n\u001b[0;32m   1530\u001b[0m     \u001b[38;5;28;01mreturn\u001b[39;00m \u001b[38;5;28mself\u001b[39m\u001b[38;5;241m.\u001b[39m_compiled_call_impl(\u001b[38;5;241m*\u001b[39margs, \u001b[38;5;241m*\u001b[39m\u001b[38;5;241m*\u001b[39mkwargs)  \u001b[38;5;66;03m# type: ignore[misc]\u001b[39;00m\n\u001b[0;32m   1531\u001b[0m \u001b[38;5;28;01melse\u001b[39;00m:\n\u001b[1;32m-> 1532\u001b[0m     \u001b[38;5;28;01mreturn\u001b[39;00m \u001b[38;5;28;43mself\u001b[39;49m\u001b[38;5;241;43m.\u001b[39;49m\u001b[43m_call_impl\u001b[49m\u001b[43m(\u001b[49m\u001b[38;5;241;43m*\u001b[39;49m\u001b[43margs\u001b[49m\u001b[43m,\u001b[49m\u001b[43m \u001b[49m\u001b[38;5;241;43m*\u001b[39;49m\u001b[38;5;241;43m*\u001b[39;49m\u001b[43mkwargs\u001b[49m\u001b[43m)\u001b[49m\n",
      "File \u001b[1;32m~\\AppData\\Local\\Packages\\PythonSoftwareFoundation.Python.3.12_qbz5n2kfra8p0\\LocalCache\\local-packages\\Python312\\site-packages\\torch\\nn\\modules\\module.py:1541\u001b[0m, in \u001b[0;36mModule._call_impl\u001b[1;34m(self, *args, **kwargs)\u001b[0m\n\u001b[0;32m   1536\u001b[0m \u001b[38;5;66;03m# If we don't have any hooks, we want to skip the rest of the logic in\u001b[39;00m\n\u001b[0;32m   1537\u001b[0m \u001b[38;5;66;03m# this function, and just call forward.\u001b[39;00m\n\u001b[0;32m   1538\u001b[0m \u001b[38;5;28;01mif\u001b[39;00m \u001b[38;5;129;01mnot\u001b[39;00m (\u001b[38;5;28mself\u001b[39m\u001b[38;5;241m.\u001b[39m_backward_hooks \u001b[38;5;129;01mor\u001b[39;00m \u001b[38;5;28mself\u001b[39m\u001b[38;5;241m.\u001b[39m_backward_pre_hooks \u001b[38;5;129;01mor\u001b[39;00m \u001b[38;5;28mself\u001b[39m\u001b[38;5;241m.\u001b[39m_forward_hooks \u001b[38;5;129;01mor\u001b[39;00m \u001b[38;5;28mself\u001b[39m\u001b[38;5;241m.\u001b[39m_forward_pre_hooks\n\u001b[0;32m   1539\u001b[0m         \u001b[38;5;129;01mor\u001b[39;00m _global_backward_pre_hooks \u001b[38;5;129;01mor\u001b[39;00m _global_backward_hooks\n\u001b[0;32m   1540\u001b[0m         \u001b[38;5;129;01mor\u001b[39;00m _global_forward_hooks \u001b[38;5;129;01mor\u001b[39;00m _global_forward_pre_hooks):\n\u001b[1;32m-> 1541\u001b[0m     \u001b[38;5;28;01mreturn\u001b[39;00m \u001b[43mforward_call\u001b[49m\u001b[43m(\u001b[49m\u001b[38;5;241;43m*\u001b[39;49m\u001b[43margs\u001b[49m\u001b[43m,\u001b[49m\u001b[43m \u001b[49m\u001b[38;5;241;43m*\u001b[39;49m\u001b[38;5;241;43m*\u001b[39;49m\u001b[43mkwargs\u001b[49m\u001b[43m)\u001b[49m\n\u001b[0;32m   1543\u001b[0m \u001b[38;5;28;01mtry\u001b[39;00m:\n\u001b[0;32m   1544\u001b[0m     result \u001b[38;5;241m=\u001b[39m \u001b[38;5;28;01mNone\u001b[39;00m\n",
      "Cell \u001b[1;32mIn[101], line 80\u001b[0m, in \u001b[0;36mShapletLearner.forward\u001b[1;34m(self, ts)\u001b[0m\n\u001b[0;32m     78\u001b[0m \u001b[38;5;28;01mdef\u001b[39;00m \u001b[38;5;21mforward\u001b[39m(\u001b[38;5;28mself\u001b[39m, ts):\n\u001b[0;32m     79\u001b[0m     ts \u001b[38;5;241m=\u001b[39m ts\u001b[38;5;241m.\u001b[39mfloat()\n\u001b[1;32m---> 80\u001b[0m     shaplet_distances \u001b[38;5;241m=\u001b[39m \u001b[38;5;28;43mself\u001b[39;49m\u001b[38;5;241;43m.\u001b[39;49m\u001b[43m_compute_shapelet_dist\u001b[49m\u001b[43m(\u001b[49m\u001b[43mts\u001b[49m\u001b[43m)\u001b[49m\n\u001b[0;32m     81\u001b[0m     \u001b[38;5;28mprint\u001b[39m(\u001b[38;5;124m\"\u001b[39m\u001b[38;5;124mshapelet distance shape:\u001b[39m\u001b[38;5;124m\"\u001b[39m, shaplet_distances\u001b[38;5;241m.\u001b[39mshape)\n\u001b[0;32m     82\u001b[0m     output \u001b[38;5;241m=\u001b[39m \u001b[38;5;28mself\u001b[39m\u001b[38;5;241m.\u001b[39mfc1(shaplet_distances)\n",
      "Cell \u001b[1;32mIn[101], line 64\u001b[0m, in \u001b[0;36mShapletLearner._compute_shapelet_dist\u001b[1;34m(self, ts)\u001b[0m\n\u001b[0;32m     62\u001b[0m \u001b[38;5;28;01mfor\u001b[39;00m j \u001b[38;5;129;01min\u001b[39;00m \u001b[38;5;28mrange\u001b[39m(num_segments):\n\u001b[0;32m     63\u001b[0m     segment \u001b[38;5;241m=\u001b[39m ts[:, j:j\u001b[38;5;241m+\u001b[39m\u001b[38;5;28mself\u001b[39m\u001b[38;5;241m.\u001b[39mK]\n\u001b[1;32m---> 64\u001b[0m     dist \u001b[38;5;241m=\u001b[39m \u001b[43mDTW_calc\u001b[49m\u001b[43m(\u001b[49m\u001b[43msegment\u001b[49m\u001b[43m,\u001b[49m\u001b[43m \u001b[49m\u001b[43mshapelet\u001b[49m\u001b[43m)\u001b[49m\n\u001b[0;32m     65\u001b[0m     \u001b[38;5;28;01mif\u001b[39;00m torch\u001b[38;5;241m.\u001b[39misnan(dist)\u001b[38;5;241m.\u001b[39many():\n\u001b[0;32m     66\u001b[0m         \u001b[38;5;28mprint\u001b[39m(\u001b[38;5;124m\"\u001b[39m\u001b[38;5;124mNan Detected in DTW distance calculation\u001b[39m\u001b[38;5;124m\"\u001b[39m)\n",
      "Cell \u001b[1;32mIn[75], line 20\u001b[0m, in \u001b[0;36mDTW_calc\u001b[1;34m(ts1, ts2)\u001b[0m\n\u001b[0;32m      8\u001b[0m \u001b[38;5;250m\u001b[39m\u001b[38;5;124;03m\"\"\"\u001b[39;00m\n\u001b[0;32m      9\u001b[0m \u001b[38;5;124;03mComputes the DTW similarity (for univariate time series) between two time series.\u001b[39;00m\n\u001b[0;32m     10\u001b[0m \u001b[38;5;124;03mHandles one input having batch size 1 for broadcasting (shapelet of shape (1, len_shapelet)).\u001b[39;00m\n\u001b[1;32m   (...)\u001b[0m\n\u001b[0;32m     17\u001b[0m \u001b[38;5;124;03mdtw_dist: Tensor of shape (batch_size,) containing the DTW distance for each batch.\u001b[39;00m\n\u001b[0;32m     18\u001b[0m \u001b[38;5;124;03m\"\"\"\u001b[39;00m\n\u001b[0;32m     19\u001b[0m \u001b[38;5;66;03m# Compute the cost matrix\u001b[39;00m\n\u001b[1;32m---> 20\u001b[0m cost_mat \u001b[38;5;241m=\u001b[39m \u001b[43mcost_matrix\u001b[49m\u001b[43m(\u001b[49m\u001b[43mts1\u001b[49m\u001b[43m,\u001b[49m\u001b[43m \u001b[49m\u001b[43mts2\u001b[49m\u001b[43m)\u001b[49m\n\u001b[0;32m     22\u001b[0m \u001b[38;5;66;03m# Return the square root of the final element in the cost matrix (total DTW cost for each batch)\u001b[39;00m\n\u001b[0;32m     23\u001b[0m \u001b[38;5;28;01mreturn\u001b[39;00m torch\u001b[38;5;241m.\u001b[39msqrt(cost_mat[:, \u001b[38;5;241m-\u001b[39m\u001b[38;5;241m1\u001b[39m, \u001b[38;5;241m-\u001b[39m\u001b[38;5;241m1\u001b[39m])\n",
      "Cell \u001b[1;32mIn[75], line 65\u001b[0m, in \u001b[0;36mcost_matrix\u001b[1;34m(ts1, ts2)\u001b[0m\n\u001b[0;32m     63\u001b[0m \u001b[38;5;28;01mfor\u001b[39;00m i \u001b[38;5;129;01min\u001b[39;00m \u001b[38;5;28mrange\u001b[39m(\u001b[38;5;241m1\u001b[39m, ts1_size \u001b[38;5;241m+\u001b[39m \u001b[38;5;241m1\u001b[39m):\n\u001b[0;32m     64\u001b[0m     \u001b[38;5;28;01mfor\u001b[39;00m j \u001b[38;5;129;01min\u001b[39;00m \u001b[38;5;28mrange\u001b[39m(\u001b[38;5;241m1\u001b[39m, ts2_size \u001b[38;5;241m+\u001b[39m \u001b[38;5;241m1\u001b[39m):\n\u001b[1;32m---> 65\u001b[0m         cost \u001b[38;5;241m=\u001b[39m \u001b[43meuclidean_diff\u001b[49m\u001b[43m(\u001b[49m\u001b[43mts1\u001b[49m\u001b[43m[\u001b[49m\u001b[43m:\u001b[49m\u001b[43m,\u001b[49m\u001b[43m \u001b[49m\u001b[43mi\u001b[49m\u001b[43m \u001b[49m\u001b[38;5;241;43m-\u001b[39;49m\u001b[43m \u001b[49m\u001b[38;5;241;43m1\u001b[39;49m\u001b[43m]\u001b[49m\u001b[43m,\u001b[49m\u001b[43m \u001b[49m\u001b[43mts2\u001b[49m\u001b[43m[\u001b[49m\u001b[43m:\u001b[49m\u001b[43m,\u001b[49m\u001b[43m \u001b[49m\u001b[43mj\u001b[49m\u001b[43m \u001b[49m\u001b[38;5;241;43m-\u001b[39;49m\u001b[43m \u001b[49m\u001b[38;5;241;43m1\u001b[39;49m\u001b[43m]\u001b[49m\u001b[43m)\u001b[49m\n\u001b[0;32m     66\u001b[0m         cum_sum[:, i, j] \u001b[38;5;241m=\u001b[39m cost \u001b[38;5;241m+\u001b[39m torch\u001b[38;5;241m.\u001b[39mmin(torch\u001b[38;5;241m.\u001b[39mstack([\n\u001b[0;32m     67\u001b[0m             cum_sum[:, i \u001b[38;5;241m-\u001b[39m \u001b[38;5;241m1\u001b[39m, j],   \u001b[38;5;66;03m# Insertion\u001b[39;00m\n\u001b[0;32m     68\u001b[0m             cum_sum[:, i, j \u001b[38;5;241m-\u001b[39m \u001b[38;5;241m1\u001b[39m],   \u001b[38;5;66;03m# Deletion\u001b[39;00m\n\u001b[0;32m     69\u001b[0m             cum_sum[:, i \u001b[38;5;241m-\u001b[39m \u001b[38;5;241m1\u001b[39m, j \u001b[38;5;241m-\u001b[39m \u001b[38;5;241m1\u001b[39m]  \u001b[38;5;66;03m# Match\u001b[39;00m\n\u001b[0;32m     70\u001b[0m         ], dim\u001b[38;5;241m=\u001b[39m\u001b[38;5;241m0\u001b[39m), dim\u001b[38;5;241m=\u001b[39m\u001b[38;5;241m0\u001b[39m)[\u001b[38;5;241m0\u001b[39m]\n\u001b[0;32m     72\u001b[0m \u001b[38;5;28;01mreturn\u001b[39;00m cum_sum[:, \u001b[38;5;241m1\u001b[39m:, \u001b[38;5;241m1\u001b[39m:]\n",
      "Cell \u001b[1;32mIn[75], line 37\u001b[0m, in \u001b[0;36meuclidean_diff\u001b[1;34m(ts1, ts2)\u001b[0m\n\u001b[0;32m     25\u001b[0m \u001b[38;5;28;01mdef\u001b[39;00m \u001b[38;5;21meuclidean_diff\u001b[39m(ts1, ts2):\n\u001b[0;32m     26\u001b[0m \u001b[38;5;250m    \u001b[39m\u001b[38;5;124;03m\"\"\"\u001b[39;00m\n\u001b[0;32m     27\u001b[0m \u001b[38;5;124;03m    Calculates the squared Euclidean distance between two points (or vectors) from two univariate time series.\u001b[39;00m\n\u001b[0;32m     28\u001b[0m \u001b[38;5;124;03m    Handles broadcasting if one input has batch size 1 (shapelet of shape (1,)).\u001b[39;00m\n\u001b[1;32m   (...)\u001b[0m\n\u001b[0;32m     35\u001b[0m \u001b[38;5;124;03m    dist: Tensor of shape (batch_size,) containing the squared Euclidean distance for each batch.\u001b[39;00m\n\u001b[0;32m     36\u001b[0m \u001b[38;5;124;03m    \"\"\"\u001b[39;00m\n\u001b[1;32m---> 37\u001b[0m     \u001b[38;5;28;01mreturn\u001b[39;00m \u001b[43m(\u001b[49m\u001b[43mts1\u001b[49m\u001b[43m \u001b[49m\u001b[38;5;241;43m-\u001b[39;49m\u001b[43m \u001b[49m\u001b[43mts2\u001b[49m\u001b[43m)\u001b[49m\u001b[43m \u001b[49m\u001b[38;5;241;43m*\u001b[39;49m\u001b[38;5;241;43m*\u001b[39;49m\u001b[43m \u001b[49m\u001b[38;5;241;43m2\u001b[39;49m\n",
      "File \u001b[1;32m~\\AppData\\Local\\Packages\\PythonSoftwareFoundation.Python.3.12_qbz5n2kfra8p0\\LocalCache\\local-packages\\Python312\\site-packages\\torch\\_tensor.py:40\u001b[0m, in \u001b[0;36m_handle_torch_function_and_wrap_type_error_to_not_implemented.<locals>.wrapped\u001b[1;34m(*args, **kwargs)\u001b[0m\n\u001b[0;32m     38\u001b[0m     \u001b[38;5;28;01mif\u001b[39;00m has_torch_function(args):\n\u001b[0;32m     39\u001b[0m         \u001b[38;5;28;01mreturn\u001b[39;00m handle_torch_function(wrapped, args, \u001b[38;5;241m*\u001b[39margs, \u001b[38;5;241m*\u001b[39m\u001b[38;5;241m*\u001b[39mkwargs)\n\u001b[1;32m---> 40\u001b[0m     \u001b[38;5;28;01mreturn\u001b[39;00m \u001b[43mf\u001b[49m\u001b[43m(\u001b[49m\u001b[38;5;241;43m*\u001b[39;49m\u001b[43margs\u001b[49m\u001b[43m,\u001b[49m\u001b[43m \u001b[49m\u001b[38;5;241;43m*\u001b[39;49m\u001b[38;5;241;43m*\u001b[39;49m\u001b[43mkwargs\u001b[49m\u001b[43m)\u001b[49m\n\u001b[0;32m     41\u001b[0m \u001b[38;5;28;01mexcept\u001b[39;00m \u001b[38;5;167;01mTypeError\u001b[39;00m:\n\u001b[0;32m     42\u001b[0m     \u001b[38;5;28;01mreturn\u001b[39;00m \u001b[38;5;28mNotImplemented\u001b[39m\n",
      "\u001b[1;31mKeyboardInterrupt\u001b[0m: "
     ]
    }
   ],
   "source": [
    "alpha = None\n",
    "trial = TSDataset(ts_data = ts_data[:16, :], labels=labels[0:16])\n",
    "train_loader = DataLoader(trial, batch_size=4, shuffle=True)\n",
    "\n",
    "kmeans_centroids = shapelet_initialization(ts_data, num_shapelets, shapelet_lengths)\n",
    "\n",
    "model = ShapletLearner(num_shapelets, shapelet_lengths, input_size, num_classes, alpha, kmeans_centroids, type_dist= \"DTW\") ## Add higher regularization after the new method\n",
    "optimizer = torch.optim.Adam(model.parameters(), lr=0.01)\n",
    "train_shaplet_model(model, train_loader, optimizer, epochs)"
   ]
  },
  {
   "cell_type": "code",
   "execution_count": 86,
   "metadata": {},
   "outputs": [
    {
     "data": {
      "text/plain": [
       "torch.Size([125, 240])"
      ]
     },
     "execution_count": 86,
     "metadata": {},
     "output_type": "execute_result"
    }
   ],
   "source": []
  },
  {
   "cell_type": "code",
   "execution_count": 94,
   "metadata": {},
   "outputs": [
    {
     "name": "stdout",
     "output_type": "stream",
     "text": [
      "torch.Size([4, 240])\n",
      "tensor([[15.6726,  1.2704,  0.3885, 96.5818,  0.5385, 22.9997, 13.7396, 15.6939,\n",
      "         11.9448,  0.3282],\n",
      "        [12.3254,  0.4494,  5.1173, 20.4109,  0.8788,  9.9148,  0.2192,  2.0188,\n",
      "          7.9067,  1.1923],\n",
      "        [16.5867,  4.5312,  7.0887, 90.1261,  1.2202, 62.1220,  6.4220,  0.7521,\n",
      "          4.9750,  6.1174],\n",
      "        [11.0426,  1.3848,  0.1630,  9.6199,  1.1684, 24.3661,  2.1627, 15.4974,\n",
      "          7.1689,  1.5160]], grad_fn=<StackBackward0>)\n",
      "torch.Size([4, 10])\n",
      "torch.Size([4, 2])\n",
      "torch.Size([4, 240])\n",
      "tensor([[ 16.6702,  71.4301,   0.6279, 111.3880, 109.5882,  29.6262,  12.7812,\n",
      "           9.0412,   2.1144,   2.2880],\n",
      "        [  7.0867,  19.3994,   2.1259,  49.5830,   7.4677,  25.1255,  15.9521,\n",
      "           3.9812,   5.4962,   9.9307],\n",
      "        [  2.5336,  98.7297,   0.2673,  15.3266, 157.4226,  36.4711,   3.2270,\n",
      "          12.1620,  44.3647,   2.8743],\n",
      "        [  8.9942,  22.5297,   1.0492,  44.9464,   7.1790,  15.3946,  17.5222,\n",
      "           3.4425,   3.5099,   4.1384]], grad_fn=<StackBackward0>)\n",
      "torch.Size([4, 10])\n",
      "torch.Size([4, 2])\n",
      "torch.Size([4, 240])\n",
      "tensor([[  5.5912,  43.1362,   0.4292,  49.7692, 114.3601,   1.3540,   0.4735,\n",
      "           9.2781,  39.4748,   1.9139],\n",
      "        [  6.8510,   2.5943,   1.8933,  17.9452,   5.5333,   6.1212,   0.3783,\n",
      "          13.7501,   7.8971,   1.3894],\n",
      "        [  5.1827,   9.7634,   4.6723,  26.0217,  53.6907,  19.5390,   1.4645,\n",
      "           5.0365,  56.3323,   5.8050],\n",
      "        [ 11.2726,  22.3277,   1.8204, 139.6992,   2.7475,  19.6443,   2.3650,\n",
      "           2.3174,   5.3359,   0.6083]], grad_fn=<StackBackward0>)\n",
      "torch.Size([4, 10])\n",
      "torch.Size([4, 2])\n"
     ]
    },
    {
     "ename": "KeyboardInterrupt",
     "evalue": "",
     "output_type": "error",
     "traceback": [
      "\u001b[1;31m---------------------------------------------------------------------------\u001b[0m",
      "\u001b[1;31mKeyboardInterrupt\u001b[0m                         Traceback (most recent call last)",
      "Cell \u001b[1;32mIn[94], line 9\u001b[0m\n\u001b[0;32m      7\u001b[0m model \u001b[38;5;241m=\u001b[39m ShapletLearner(num_shapelets, shapelet_lengths, input_size, num_classes, alpha, kmeans_centroids, type_dist\u001b[38;5;241m=\u001b[39m \u001b[38;5;124m\"\u001b[39m\u001b[38;5;124meuclid\u001b[39m\u001b[38;5;124m\"\u001b[39m) \u001b[38;5;66;03m## Add higher regularization after the new method\u001b[39;00m\n\u001b[0;32m      8\u001b[0m optimizer \u001b[38;5;241m=\u001b[39m torch\u001b[38;5;241m.\u001b[39moptim\u001b[38;5;241m.\u001b[39mAdam(model\u001b[38;5;241m.\u001b[39mparameters(), lr\u001b[38;5;241m=\u001b[39m\u001b[38;5;241m0.01\u001b[39m)\n\u001b[1;32m----> 9\u001b[0m \u001b[43mtrain_shaplet_model\u001b[49m\u001b[43m(\u001b[49m\u001b[43mmodel\u001b[49m\u001b[43m,\u001b[49m\u001b[43m \u001b[49m\u001b[43mtrain_loader\u001b[49m\u001b[43m,\u001b[49m\u001b[43m \u001b[49m\u001b[43moptimizer\u001b[49m\u001b[43m,\u001b[49m\u001b[43m \u001b[49m\u001b[43mepochs\u001b[49m\u001b[43m)\u001b[49m\n",
      "Cell \u001b[1;32mIn[92], line 14\u001b[0m, in \u001b[0;36mtrain_shaplet_model\u001b[1;34m(model, train_loader, optimizer, epochs)\u001b[0m\n\u001b[0;32m     12\u001b[0m predictions \u001b[38;5;241m=\u001b[39m model(time_series)\n\u001b[0;32m     13\u001b[0m loss \u001b[38;5;241m=\u001b[39m model\u001b[38;5;241m.\u001b[39mloss_fn(predictions, labels)\n\u001b[1;32m---> 14\u001b[0m \u001b[43mloss\u001b[49m\u001b[38;5;241;43m.\u001b[39;49m\u001b[43mbackward\u001b[49m\u001b[43m(\u001b[49m\u001b[43m)\u001b[49m\n\u001b[0;32m     15\u001b[0m optimizer\u001b[38;5;241m.\u001b[39mstep()\n\u001b[0;32m     16\u001b[0m total_loss \u001b[38;5;241m+\u001b[39m\u001b[38;5;241m=\u001b[39m loss\u001b[38;5;241m.\u001b[39mitem()\n",
      "File \u001b[1;32m~\\AppData\\Local\\Packages\\PythonSoftwareFoundation.Python.3.12_qbz5n2kfra8p0\\LocalCache\\local-packages\\Python312\\site-packages\\torch\\_tensor.py:525\u001b[0m, in \u001b[0;36mTensor.backward\u001b[1;34m(self, gradient, retain_graph, create_graph, inputs)\u001b[0m\n\u001b[0;32m    515\u001b[0m \u001b[38;5;28;01mif\u001b[39;00m has_torch_function_unary(\u001b[38;5;28mself\u001b[39m):\n\u001b[0;32m    516\u001b[0m     \u001b[38;5;28;01mreturn\u001b[39;00m handle_torch_function(\n\u001b[0;32m    517\u001b[0m         Tensor\u001b[38;5;241m.\u001b[39mbackward,\n\u001b[0;32m    518\u001b[0m         (\u001b[38;5;28mself\u001b[39m,),\n\u001b[1;32m   (...)\u001b[0m\n\u001b[0;32m    523\u001b[0m         inputs\u001b[38;5;241m=\u001b[39minputs,\n\u001b[0;32m    524\u001b[0m     )\n\u001b[1;32m--> 525\u001b[0m \u001b[43mtorch\u001b[49m\u001b[38;5;241;43m.\u001b[39;49m\u001b[43mautograd\u001b[49m\u001b[38;5;241;43m.\u001b[39;49m\u001b[43mbackward\u001b[49m\u001b[43m(\u001b[49m\n\u001b[0;32m    526\u001b[0m \u001b[43m    \u001b[49m\u001b[38;5;28;43mself\u001b[39;49m\u001b[43m,\u001b[49m\u001b[43m \u001b[49m\u001b[43mgradient\u001b[49m\u001b[43m,\u001b[49m\u001b[43m \u001b[49m\u001b[43mretain_graph\u001b[49m\u001b[43m,\u001b[49m\u001b[43m \u001b[49m\u001b[43mcreate_graph\u001b[49m\u001b[43m,\u001b[49m\u001b[43m \u001b[49m\u001b[43minputs\u001b[49m\u001b[38;5;241;43m=\u001b[39;49m\u001b[43minputs\u001b[49m\n\u001b[0;32m    527\u001b[0m \u001b[43m\u001b[49m\u001b[43m)\u001b[49m\n",
      "File \u001b[1;32m~\\AppData\\Local\\Packages\\PythonSoftwareFoundation.Python.3.12_qbz5n2kfra8p0\\LocalCache\\local-packages\\Python312\\site-packages\\torch\\autograd\\__init__.py:267\u001b[0m, in \u001b[0;36mbackward\u001b[1;34m(tensors, grad_tensors, retain_graph, create_graph, grad_variables, inputs)\u001b[0m\n\u001b[0;32m    262\u001b[0m     retain_graph \u001b[38;5;241m=\u001b[39m create_graph\n\u001b[0;32m    264\u001b[0m \u001b[38;5;66;03m# The reason we repeat the same comment below is that\u001b[39;00m\n\u001b[0;32m    265\u001b[0m \u001b[38;5;66;03m# some Python versions print out the first line of a multi-line function\u001b[39;00m\n\u001b[0;32m    266\u001b[0m \u001b[38;5;66;03m# calls in the traceback and some print out the last line\u001b[39;00m\n\u001b[1;32m--> 267\u001b[0m \u001b[43m_engine_run_backward\u001b[49m\u001b[43m(\u001b[49m\n\u001b[0;32m    268\u001b[0m \u001b[43m    \u001b[49m\u001b[43mtensors\u001b[49m\u001b[43m,\u001b[49m\n\u001b[0;32m    269\u001b[0m \u001b[43m    \u001b[49m\u001b[43mgrad_tensors_\u001b[49m\u001b[43m,\u001b[49m\n\u001b[0;32m    270\u001b[0m \u001b[43m    \u001b[49m\u001b[43mretain_graph\u001b[49m\u001b[43m,\u001b[49m\n\u001b[0;32m    271\u001b[0m \u001b[43m    \u001b[49m\u001b[43mcreate_graph\u001b[49m\u001b[43m,\u001b[49m\n\u001b[0;32m    272\u001b[0m \u001b[43m    \u001b[49m\u001b[43minputs\u001b[49m\u001b[43m,\u001b[49m\n\u001b[0;32m    273\u001b[0m \u001b[43m    \u001b[49m\u001b[43mallow_unreachable\u001b[49m\u001b[38;5;241;43m=\u001b[39;49m\u001b[38;5;28;43;01mTrue\u001b[39;49;00m\u001b[43m,\u001b[49m\n\u001b[0;32m    274\u001b[0m \u001b[43m    \u001b[49m\u001b[43maccumulate_grad\u001b[49m\u001b[38;5;241;43m=\u001b[39;49m\u001b[38;5;28;43;01mTrue\u001b[39;49;00m\u001b[43m,\u001b[49m\n\u001b[0;32m    275\u001b[0m \u001b[43m\u001b[49m\u001b[43m)\u001b[49m\n",
      "File \u001b[1;32m~\\AppData\\Local\\Packages\\PythonSoftwareFoundation.Python.3.12_qbz5n2kfra8p0\\LocalCache\\local-packages\\Python312\\site-packages\\torch\\autograd\\graph.py:744\u001b[0m, in \u001b[0;36m_engine_run_backward\u001b[1;34m(t_outputs, *args, **kwargs)\u001b[0m\n\u001b[0;32m    742\u001b[0m     unregister_hooks \u001b[38;5;241m=\u001b[39m _register_logging_hooks_on_whole_graph(t_outputs)\n\u001b[0;32m    743\u001b[0m \u001b[38;5;28;01mtry\u001b[39;00m:\n\u001b[1;32m--> 744\u001b[0m     \u001b[38;5;28;01mreturn\u001b[39;00m \u001b[43mVariable\u001b[49m\u001b[38;5;241;43m.\u001b[39;49m\u001b[43m_execution_engine\u001b[49m\u001b[38;5;241;43m.\u001b[39;49m\u001b[43mrun_backward\u001b[49m\u001b[43m(\u001b[49m\u001b[43m  \u001b[49m\u001b[38;5;66;43;03m# Calls into the C++ engine to run the backward pass\u001b[39;49;00m\n\u001b[0;32m    745\u001b[0m \u001b[43m        \u001b[49m\u001b[43mt_outputs\u001b[49m\u001b[43m,\u001b[49m\u001b[43m \u001b[49m\u001b[38;5;241;43m*\u001b[39;49m\u001b[43margs\u001b[49m\u001b[43m,\u001b[49m\u001b[43m \u001b[49m\u001b[38;5;241;43m*\u001b[39;49m\u001b[38;5;241;43m*\u001b[39;49m\u001b[43mkwargs\u001b[49m\n\u001b[0;32m    746\u001b[0m \u001b[43m    \u001b[49m\u001b[43m)\u001b[49m  \u001b[38;5;66;03m# Calls into the C++ engine to run the backward pass\u001b[39;00m\n\u001b[0;32m    747\u001b[0m \u001b[38;5;28;01mfinally\u001b[39;00m:\n\u001b[0;32m    748\u001b[0m     \u001b[38;5;28;01mif\u001b[39;00m attach_logging_hooks:\n",
      "\u001b[1;31mKeyboardInterrupt\u001b[0m: "
     ]
    }
   ],
   "source": [
    "alpha = None\n",
    "trial = TSDataset(ts_data[:16, :], labels=labels[0:16])\n",
    "train_loader = DataLoader(trial, batch_size=4, shuffle=True)\n",
    "\n",
    "kmeans_centroids = shapelet_initialization(ts_data, num_shapelets, shapelet_lengths)\n",
    "\n",
    "model = ShapletLearner(num_shapelets, shapelet_lengths, input_size, num_classes, alpha, kmeans_centroids, type_dist= \"euclid\") ## Add higher regularization after the new method\n",
    "optimizer = torch.optim.Adam(model.parameters(), lr=0.01)\n",
    "train_shaplet_model(model, train_loader, optimizer, epochs)"
   ]
  },
  {
   "cell_type": "code",
   "execution_count": 121,
   "metadata": {},
   "outputs": [
    {
     "name": "stderr",
     "output_type": "stream",
     "text": [
      "C:\\Users\\User\\AppData\\Local\\Temp\\ipykernel_33656\\1443490878.py:3: UserWarning: To copy construct from a tensor, it is recommended to use sourceTensor.clone().detach() or sourceTensor.clone().detach().requires_grad_(True), rather than torch.tensor(sourceTensor).\n",
      "  plt.plot(torch.tensor(model.shapelets[6][0]))  ## I'll Try to make it match with the timeseries later\n"
     ]
    },
    {
     "data": {
      "text/plain": [
       "[<matplotlib.lines.Line2D at 0x1ee3490a7e0>]"
      ]
     },
     "execution_count": 121,
     "metadata": {},
     "output_type": "execute_result"
    },
    {
     "data": {
      "image/png": "[encoded data removed]",
      "text/plain": [
       "<Figure size 640x480 with 1 Axes>"
      ]
     },
     "metadata": {},
     "output_type": "display_data"
    }
   ],
   "source": [
    "## Plotting the shapelets is easy\n",
    "\n",
    "plt.plot(torch.tensor(model.shapelets[6][0]))  ## I'll Try to make it match with the timeseries later "
   ]
  },
  {
   "cell_type": "code",
   "execution_count": 109,
   "metadata": {},
   "outputs": [
    {
     "data": {
      "text/plain": [
       "ParameterList(\n",
       "    (0): Parameter containing: [torch.float32 of size 1x10]\n",
       "    (1): Parameter containing: [torch.float32 of size 1x10]\n",
       "    (2): Parameter containing: [torch.float32 of size 1x10]\n",
       "    (3): Parameter containing: [torch.float32 of size 1x10]\n",
       "    (4): Parameter containing: [torch.float32 of size 1x10]\n",
       "    (5): Parameter containing: [torch.float32 of size 1x10]\n",
       "    (6): Parameter containing: [torch.float32 of size 1x10]\n",
       "    (7): Parameter containing: [torch.float32 of size 1x10]\n",
       "    (8): Parameter containing: [torch.float32 of size 1x10]\n",
       "    (9): Parameter containing: [torch.float32 of size 1x10]\n",
       ")"
      ]
     },
     "execution_count": 109,
     "metadata": {},
     "output_type": "execute_result"
    }
   ],
   "source": []
  },
  {
   "cell_type": "code",
   "execution_count": 114,
   "metadata": {},
   "outputs": [
    {
     "data": {
      "text/plain": [
       "tensor([ 80.0944,  79.8535,  81.6252,  85.9091,  92.5682, 101.4552, 111.5973,\n",
       "        121.8285, 131.0759, 138.5772], grad_fn=<SelectBackward0>)"
      ]
     },
     "execution_count": 114,
     "metadata": {},
     "output_type": "execute_result"
    }
   ],
   "source": []
  },
  {
   "cell_type": "code",
   "execution_count": 23,
   "metadata": {},
   "outputs": [],
   "source": [
    "from utils.DTW import *"
   ]
  },
  {
   "cell_type": "code",
   "execution_count": 22,
   "metadata": {},
   "outputs": [
    {
     "name": "stdout",
     "output_type": "stream",
     "text": [
      "tensor(1.2247)\n"
     ]
    }
   ],
   "source": []
  },
  {
   "cell_type": "code",
   "execution_count": 28,
   "metadata": {},
   "outputs": [
    {
     "name": "stdout",
     "output_type": "stream",
     "text": [
      "DTW Distance: 2.291287899017334\n",
      "Gradient for ts1: tensor([[-0.2182,  0.8729],\n",
      "        [-0.2182, -0.2182],\n",
      "        [-0.2182, -0.2182]])\n"
     ]
    }
   ],
   "source": [
    "ts1 = torch.tensor([[1.0, 4.5], [2.0, 3.0], [3.0, 4.0]], requires_grad=True)\n",
    "ts2 = torch.tensor([[1.5, 2.5], [2.5, 3.5], [3.5, 4.5]])\n",
    "\n",
    "dtw_distance = DTW_calc(ts1, ts2)\n",
    "\n",
    "# Compute gradients\n",
    "dtw_distance.backward()\n",
    "\n",
    "print(\"DTW Distance:\", dtw_distance.item())\n",
    "print(\"Gradient for ts1:\", ts1.grad)"
   ]
  }
 ],
 "metadata": {
  "kernelspec": {
   "display_name": "Python 3",
   "language": "python",
   "name": "python3"
  },
  "language_info": {
   "codemirror_mode": {
    "name": "ipython",
    "version": 3
   },
   "file_extension": ".py",
   "mimetype": "text/x-python",
   "name": "python",
   "nbconvert_exporter": "python",
   "pygments_lexer": "ipython3",
   "version": "3.12.7"
  }
 },
 "nbformat": 4,
 "nbformat_minor": 2
}
